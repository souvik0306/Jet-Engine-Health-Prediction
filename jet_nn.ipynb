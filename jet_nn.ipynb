{
 "cells": [
  {
   "cell_type": "code",
   "execution_count": 1,
   "metadata": {},
   "outputs": [],
   "source": [
    "import numpy as np\n",
    "import pandas as pd\n",
    "from sklearn.metrics import accuracy_score\n",
    "from sklearn.model_selection import train_test_split\n",
    "import seaborn as sns\n",
    "import matplotlib.pyplot as plt"
   ]
  },
  {
   "cell_type": "code",
   "execution_count": 2,
   "metadata": {},
   "outputs": [],
   "source": [
    "from sklearn.preprocessing import MinMaxScaler\n",
    "from sklearn import metrics\n",
    "from keras.preprocessing.sequence import TimeseriesGenerator\n",
    "\n",
    "import keras\n",
    "from keras.models import Sequential\n",
    "from keras.layers import Dense,Conv2D,Flatten"
   ]
  },
  {
   "cell_type": "code",
   "execution_count": 3,
   "metadata": {},
   "outputs": [],
   "source": [
    "d1 = pd.read_csv('NASA-s-Turbo-Engine-Remaining-Useful-Life-prediction-using-machine-learning-main\\Training_1_all_features.csv')\n",
    "d2 = pd.read_csv('NASA-s-Turbo-Engine-Remaining-Useful-Life-prediction-using-machine-learning-main\\Training_2_all_features.csv')\n",
    "d3 = pd.read_csv('NASA-s-Turbo-Engine-Remaining-Useful-Life-prediction-using-machine-learning-main\\Training_3_all_features.csv')\n",
    "d4 = pd.read_csv('NASA-s-Turbo-Engine-Remaining-Useful-Life-prediction-using-machine-learning-main\\Training_4_all_features.csv')"
   ]
  },
  {
   "cell_type": "code",
   "execution_count": 4,
   "metadata": {},
   "outputs": [],
   "source": [
    "data_frame = pd.concat([d1,d2,d3,d4])"
   ]
  },
  {
   "cell_type": "code",
   "execution_count": 5,
   "metadata": {},
   "outputs": [
    {
     "data": {
      "text/plain": [
       "(160359, 26)"
      ]
     },
     "execution_count": 5,
     "metadata": {},
     "output_type": "execute_result"
    }
   ],
   "source": [
    "data_frame.shape"
   ]
  },
  {
   "cell_type": "code",
   "execution_count": 6,
   "metadata": {},
   "outputs": [
    {
     "data": {
      "text/plain": [
       "Cycle              0\n",
       "OpSet1             0\n",
       "OpSet2             0\n",
       "OpSet3             0\n",
       "SensorMeasure1     0\n",
       "SensorMeasure2     0\n",
       "SensorMeasure3     0\n",
       "SensorMeasure4     0\n",
       "SensorMeasure5     0\n",
       "SensorMeasure6     0\n",
       "SensorMeasure7     0\n",
       "SensorMeasure8     0\n",
       "SensorMeasure9     0\n",
       "SensorMeasure10    0\n",
       "SensorMeasure11    0\n",
       "SensorMeasure12    0\n",
       "SensorMeasure13    0\n",
       "SensorMeasure14    0\n",
       "SensorMeasure15    0\n",
       "SensorMeasure16    0\n",
       "SensorMeasure17    0\n",
       "SensorMeasure18    0\n",
       "SensorMeasure19    0\n",
       "SensorMeasure20    0\n",
       "SensorMeasure21    0\n",
       "labels             0\n",
       "dtype: int64"
      ]
     },
     "execution_count": 6,
     "metadata": {},
     "output_type": "execute_result"
    }
   ],
   "source": [
    "data_frame.isnull().sum()"
   ]
  },
  {
   "cell_type": "code",
   "execution_count": 7,
   "metadata": {},
   "outputs": [],
   "source": [
    "X = data_frame.iloc[:,0:25]"
   ]
  },
  {
   "cell_type": "code",
   "execution_count": 8,
   "metadata": {},
   "outputs": [
    {
     "data": {
      "text/html": [
       "<div>\n",
       "<style scoped>\n",
       "    .dataframe tbody tr th:only-of-type {\n",
       "        vertical-align: middle;\n",
       "    }\n",
       "\n",
       "    .dataframe tbody tr th {\n",
       "        vertical-align: top;\n",
       "    }\n",
       "\n",
       "    .dataframe thead th {\n",
       "        text-align: right;\n",
       "    }\n",
       "</style>\n",
       "<table border=\"1\" class=\"dataframe\">\n",
       "  <thead>\n",
       "    <tr style=\"text-align: right;\">\n",
       "      <th></th>\n",
       "      <th>Cycle</th>\n",
       "      <th>OpSet1</th>\n",
       "      <th>OpSet2</th>\n",
       "      <th>OpSet3</th>\n",
       "      <th>SensorMeasure1</th>\n",
       "      <th>SensorMeasure2</th>\n",
       "      <th>SensorMeasure3</th>\n",
       "      <th>SensorMeasure4</th>\n",
       "      <th>SensorMeasure5</th>\n",
       "      <th>SensorMeasure6</th>\n",
       "      <th>...</th>\n",
       "      <th>SensorMeasure13</th>\n",
       "      <th>SensorMeasure14</th>\n",
       "      <th>SensorMeasure15</th>\n",
       "      <th>SensorMeasure16</th>\n",
       "      <th>SensorMeasure17</th>\n",
       "      <th>SensorMeasure18</th>\n",
       "      <th>SensorMeasure19</th>\n",
       "      <th>SensorMeasure20</th>\n",
       "      <th>SensorMeasure21</th>\n",
       "      <th>labels</th>\n",
       "    </tr>\n",
       "  </thead>\n",
       "  <tbody>\n",
       "    <tr>\n",
       "      <th>0</th>\n",
       "      <td>1</td>\n",
       "      <td>-0.0007</td>\n",
       "      <td>-0.0004</td>\n",
       "      <td>100.0</td>\n",
       "      <td>518.67</td>\n",
       "      <td>641.82</td>\n",
       "      <td>1589.70</td>\n",
       "      <td>1400.60</td>\n",
       "      <td>14.62</td>\n",
       "      <td>21.61</td>\n",
       "      <td>...</td>\n",
       "      <td>2388.02</td>\n",
       "      <td>8138.62</td>\n",
       "      <td>8.4195</td>\n",
       "      <td>0.03</td>\n",
       "      <td>392</td>\n",
       "      <td>2388</td>\n",
       "      <td>100.0</td>\n",
       "      <td>39.06</td>\n",
       "      <td>23.4190</td>\n",
       "      <td>0</td>\n",
       "    </tr>\n",
       "    <tr>\n",
       "      <th>1</th>\n",
       "      <td>2</td>\n",
       "      <td>0.0019</td>\n",
       "      <td>-0.0003</td>\n",
       "      <td>100.0</td>\n",
       "      <td>518.67</td>\n",
       "      <td>642.15</td>\n",
       "      <td>1591.82</td>\n",
       "      <td>1403.14</td>\n",
       "      <td>14.62</td>\n",
       "      <td>21.61</td>\n",
       "      <td>...</td>\n",
       "      <td>2388.07</td>\n",
       "      <td>8131.49</td>\n",
       "      <td>8.4318</td>\n",
       "      <td>0.03</td>\n",
       "      <td>392</td>\n",
       "      <td>2388</td>\n",
       "      <td>100.0</td>\n",
       "      <td>39.00</td>\n",
       "      <td>23.4236</td>\n",
       "      <td>0</td>\n",
       "    </tr>\n",
       "    <tr>\n",
       "      <th>2</th>\n",
       "      <td>3</td>\n",
       "      <td>-0.0043</td>\n",
       "      <td>0.0003</td>\n",
       "      <td>100.0</td>\n",
       "      <td>518.67</td>\n",
       "      <td>642.35</td>\n",
       "      <td>1587.99</td>\n",
       "      <td>1404.20</td>\n",
       "      <td>14.62</td>\n",
       "      <td>21.61</td>\n",
       "      <td>...</td>\n",
       "      <td>2388.03</td>\n",
       "      <td>8133.23</td>\n",
       "      <td>8.4178</td>\n",
       "      <td>0.03</td>\n",
       "      <td>390</td>\n",
       "      <td>2388</td>\n",
       "      <td>100.0</td>\n",
       "      <td>38.95</td>\n",
       "      <td>23.3442</td>\n",
       "      <td>0</td>\n",
       "    </tr>\n",
       "    <tr>\n",
       "      <th>3</th>\n",
       "      <td>4</td>\n",
       "      <td>0.0007</td>\n",
       "      <td>0.0000</td>\n",
       "      <td>100.0</td>\n",
       "      <td>518.67</td>\n",
       "      <td>642.35</td>\n",
       "      <td>1582.79</td>\n",
       "      <td>1401.87</td>\n",
       "      <td>14.62</td>\n",
       "      <td>21.61</td>\n",
       "      <td>...</td>\n",
       "      <td>2388.08</td>\n",
       "      <td>8133.83</td>\n",
       "      <td>8.3682</td>\n",
       "      <td>0.03</td>\n",
       "      <td>392</td>\n",
       "      <td>2388</td>\n",
       "      <td>100.0</td>\n",
       "      <td>38.88</td>\n",
       "      <td>23.3739</td>\n",
       "      <td>0</td>\n",
       "    </tr>\n",
       "    <tr>\n",
       "      <th>4</th>\n",
       "      <td>5</td>\n",
       "      <td>-0.0019</td>\n",
       "      <td>-0.0002</td>\n",
       "      <td>100.0</td>\n",
       "      <td>518.67</td>\n",
       "      <td>642.37</td>\n",
       "      <td>1582.85</td>\n",
       "      <td>1406.22</td>\n",
       "      <td>14.62</td>\n",
       "      <td>21.61</td>\n",
       "      <td>...</td>\n",
       "      <td>2388.04</td>\n",
       "      <td>8133.80</td>\n",
       "      <td>8.4294</td>\n",
       "      <td>0.03</td>\n",
       "      <td>393</td>\n",
       "      <td>2388</td>\n",
       "      <td>100.0</td>\n",
       "      <td>38.90</td>\n",
       "      <td>23.4044</td>\n",
       "      <td>0</td>\n",
       "    </tr>\n",
       "  </tbody>\n",
       "</table>\n",
       "<p>5 rows × 26 columns</p>\n",
       "</div>"
      ],
      "text/plain": [
       "   Cycle  OpSet1  OpSet2  OpSet3  SensorMeasure1  SensorMeasure2  \\\n",
       "0      1 -0.0007 -0.0004   100.0          518.67          641.82   \n",
       "1      2  0.0019 -0.0003   100.0          518.67          642.15   \n",
       "2      3 -0.0043  0.0003   100.0          518.67          642.35   \n",
       "3      4  0.0007  0.0000   100.0          518.67          642.35   \n",
       "4      5 -0.0019 -0.0002   100.0          518.67          642.37   \n",
       "\n",
       "   SensorMeasure3  SensorMeasure4  SensorMeasure5  SensorMeasure6  ...  \\\n",
       "0         1589.70         1400.60           14.62           21.61  ...   \n",
       "1         1591.82         1403.14           14.62           21.61  ...   \n",
       "2         1587.99         1404.20           14.62           21.61  ...   \n",
       "3         1582.79         1401.87           14.62           21.61  ...   \n",
       "4         1582.85         1406.22           14.62           21.61  ...   \n",
       "\n",
       "   SensorMeasure13  SensorMeasure14  SensorMeasure15  SensorMeasure16  \\\n",
       "0          2388.02          8138.62           8.4195             0.03   \n",
       "1          2388.07          8131.49           8.4318             0.03   \n",
       "2          2388.03          8133.23           8.4178             0.03   \n",
       "3          2388.08          8133.83           8.3682             0.03   \n",
       "4          2388.04          8133.80           8.4294             0.03   \n",
       "\n",
       "   SensorMeasure17  SensorMeasure18  SensorMeasure19  SensorMeasure20  \\\n",
       "0              392             2388            100.0            39.06   \n",
       "1              392             2388            100.0            39.00   \n",
       "2              390             2388            100.0            38.95   \n",
       "3              392             2388            100.0            38.88   \n",
       "4              393             2388            100.0            38.90   \n",
       "\n",
       "   SensorMeasure21  labels  \n",
       "0          23.4190       0  \n",
       "1          23.4236       0  \n",
       "2          23.3442       0  \n",
       "3          23.3739       0  \n",
       "4          23.4044       0  \n",
       "\n",
       "[5 rows x 26 columns]"
      ]
     },
     "execution_count": 8,
     "metadata": {},
     "output_type": "execute_result"
    }
   ],
   "source": [
    "data_frame.head()"
   ]
  },
  {
   "cell_type": "code",
   "execution_count": 12,
   "metadata": {},
   "outputs": [
    {
     "data": {
      "text/plain": [
       "(160359, 25)"
      ]
     },
     "execution_count": 12,
     "metadata": {},
     "output_type": "execute_result"
    }
   ],
   "source": [
    "X.shape"
   ]
  },
  {
   "cell_type": "code",
   "execution_count": 9,
   "metadata": {},
   "outputs": [],
   "source": [
    "Y = data_frame['labels']"
   ]
  },
  {
   "cell_type": "code",
   "execution_count": 10,
   "metadata": {},
   "outputs": [],
   "source": [
    "X_train,X_test,Y_train,Y_test = train_test_split(X,Y,test_size=0.2,stratify=Y,shuffle=True,random_state=35)"
   ]
  },
  {
   "cell_type": "code",
   "execution_count": 11,
   "metadata": {},
   "outputs": [
    {
     "data": {
      "text/plain": [
       "((128287, 25), (32072, 25), (128287,), (32072,))"
      ]
     },
     "execution_count": 11,
     "metadata": {},
     "output_type": "execute_result"
    }
   ],
   "source": [
    "X_train.shape,X_test.shape,Y_train.shape,Y_test.shape"
   ]
  },
  {
   "cell_type": "code",
   "execution_count": 17,
   "metadata": {},
   "outputs": [],
   "source": [
    "from sklearn.preprocessing import StandardScaler\n",
    "scaler = StandardScaler()\n",
    "X_train_std = scaler.fit_transform(X_train)\n",
    "X_test_std = scaler.fit_transform(X_test)"
   ]
  },
  {
   "cell_type": "code",
   "execution_count": 25,
   "metadata": {},
   "outputs": [],
   "source": [
    "model = keras.Sequential([\n",
    "                        keras.layers.Flatten(input_shape=(25,)),\n",
    "                        keras.layers.Dense(40,activation='relu'),\n",
    "                        keras.layers.Dense(256,activation='relu'),\n",
    "                        keras.layers.Dense(3,activation='softmax')\n",
    "                        ])"
   ]
  },
  {
   "cell_type": "code",
   "execution_count": 26,
   "metadata": {},
   "outputs": [
    {
     "name": "stdout",
     "output_type": "stream",
     "text": [
      "Model: \"sequential_3\"\n",
      "_________________________________________________________________\n",
      " Layer (type)                Output Shape              Param #   \n",
      "=================================================================\n",
      " flatten_3 (Flatten)         (None, 25)                0         \n",
      "                                                                 \n",
      " dense_9 (Dense)             (None, 40)                1040      \n",
      "                                                                 \n",
      " dense_10 (Dense)            (None, 256)               10496     \n",
      "                                                                 \n",
      " dense_11 (Dense)            (None, 3)                 771       \n",
      "                                                                 \n",
      "=================================================================\n",
      "Total params: 12,307\n",
      "Trainable params: 12,307\n",
      "Non-trainable params: 0\n",
      "_________________________________________________________________\n"
     ]
    }
   ],
   "source": [
    "model.summary()"
   ]
  },
  {
   "cell_type": "code",
   "execution_count": 27,
   "metadata": {},
   "outputs": [],
   "source": [
    "model.compile(optimizer='adam',loss='sparse_categorical_crossentropy',metrics=['accuracy'])"
   ]
  },
  {
   "cell_type": "code",
   "execution_count": 28,
   "metadata": {},
   "outputs": [
    {
     "name": "stdout",
     "output_type": "stream",
     "text": [
      "Epoch 1/15\n",
      "6014/6014 [==============================] - 36s 6ms/step - loss: 0.3823 - accuracy: 0.8244 - val_loss: 0.3600 - val_accuracy: 0.8350\n",
      "Epoch 2/15\n",
      "6014/6014 [==============================] - 35s 6ms/step - loss: 0.3237 - accuracy: 0.8552 - val_loss: 0.2996 - val_accuracy: 0.8651\n",
      "Epoch 3/15\n",
      "6014/6014 [==============================] - 35s 6ms/step - loss: 0.3134 - accuracy: 0.8581 - val_loss: 0.2955 - val_accuracy: 0.8670\n",
      "Epoch 4/15\n",
      "6014/6014 [==============================] - 35s 6ms/step - loss: 0.3073 - accuracy: 0.8617 - val_loss: 0.3012 - val_accuracy: 0.8637\n",
      "Epoch 5/15\n",
      "6014/6014 [==============================] - 35s 6ms/step - loss: 0.3027 - accuracy: 0.8647 - val_loss: 0.3004 - val_accuracy: 0.8653\n",
      "Epoch 6/15\n",
      "6014/6014 [==============================] - 35s 6ms/step - loss: 0.2993 - accuracy: 0.8655 - val_loss: 0.2897 - val_accuracy: 0.8689\n",
      "Epoch 7/15\n",
      "6014/6014 [==============================] - 35s 6ms/step - loss: 0.2949 - accuracy: 0.8672 - val_loss: 0.2825 - val_accuracy: 0.8719\n",
      "Epoch 8/15\n",
      "6014/6014 [==============================] - 35s 6ms/step - loss: 0.2929 - accuracy: 0.8674 - val_loss: 0.2799 - val_accuracy: 0.8726\n",
      "Epoch 9/15\n",
      "6014/6014 [==============================] - 35s 6ms/step - loss: 0.2916 - accuracy: 0.8680 - val_loss: 0.2789 - val_accuracy: 0.8720\n",
      "Epoch 10/15\n",
      "6014/6014 [==============================] - 38s 6ms/step - loss: 0.2910 - accuracy: 0.8696 - val_loss: 0.2751 - val_accuracy: 0.8744\n",
      "Epoch 11/15\n",
      "6014/6014 [==============================] - 35s 6ms/step - loss: 0.2887 - accuracy: 0.8700 - val_loss: 0.2849 - val_accuracy: 0.8708\n",
      "Epoch 12/15\n",
      "6014/6014 [==============================] - 35s 6ms/step - loss: 0.2870 - accuracy: 0.8704 - val_loss: 0.2850 - val_accuracy: 0.8709\n",
      "Epoch 13/15\n",
      "6014/6014 [==============================] - 35s 6ms/step - loss: 0.2859 - accuracy: 0.8713 - val_loss: 0.2790 - val_accuracy: 0.8732\n",
      "Epoch 14/15\n",
      "6014/6014 [==============================] - 35s 6ms/step - loss: 0.2847 - accuracy: 0.8722 - val_loss: 0.2786 - val_accuracy: 0.8746\n",
      "Epoch 15/15\n",
      "6014/6014 [==============================] - 35s 6ms/step - loss: 0.2834 - accuracy: 0.8721 - val_loss: 0.2746 - val_accuracy: 0.8762\n"
     ]
    }
   ],
   "source": [
    "history = model.fit(X_train_std,Y_train,epochs=15,batch_size=16,validation_split=0.25)"
   ]
  },
  {
   "cell_type": "code",
   "execution_count": 29,
   "metadata": {},
   "outputs": [
    {
     "data": {
      "image/png": "[encoded data removed]",
      "text/plain": [
       "<Figure size 504x360 with 1 Axes>"
      ]
     },
     "metadata": {
      "needs_background": "light"
     },
     "output_type": "display_data"
    }
   ],
   "source": [
    "plt.figure(figsize=(7,5))\n",
    "plt.plot(history.history['val_accuracy'],linewidth = 4)\n",
    "plt.plot(history.history['accuracy'],linewidth = 4)\n",
    "\n",
    "plt.title(\"Training and Validation Accuracy\",fontsize=12)\n",
    "plt.ylabel(\"Accuracy\",fontsize=12)\n",
    "plt.xlabel(\"Number of epochs\",fontsize=12)\n",
    "plt.legend(['val','train'],loc = 'lower right')\n",
    "plt.grid()\n",
    "\n",
    "plt.show()"
   ]
  },
  {
   "cell_type": "code",
   "execution_count": 30,
   "metadata": {},
   "outputs": [
    {
     "data": {
      "image/png": "[encoded data removed]",
      "text/plain": [
       "<Figure size 504x360 with 1 Axes>"
      ]
     },
     "metadata": {
      "needs_background": "light"
     },
     "output_type": "display_data"
    }
   ],
   "source": [
    "plt.figure(figsize=(7,5))\n",
    "plt.plot(history.history['loss'],linewidth = 4)\n",
    "plt.plot(history.history['val_loss'],linewidth = 4)\n",
    "\n",
    "plt.title(\"Training and Validation Loss\",fontsize=12)\n",
    "plt.ylabel(\"Loss\",fontsize=12)\n",
    "plt.xlabel(\"Number of epochs\",fontsize=12)\n",
    "plt.legend(['train','val'],loc = 'upper right')\n",
    "plt.grid()\n",
    "plt.show()\n"
   ]
  },
  {
   "cell_type": "code",
   "execution_count": 31,
   "metadata": {},
   "outputs": [
    {
     "name": "stdout",
     "output_type": "stream",
     "text": [
      "1003/1003 [==============================] - 4s 4ms/step - loss: 0.2793 - accuracy: 0.8757\n"
     ]
    }
   ],
   "source": [
    "loss,accuracy = model.evaluate(X_test_std,Y_test)"
   ]
  },
  {
   "cell_type": "code",
   "execution_count": 32,
   "metadata": {},
   "outputs": [],
   "source": [
    "testing_data = pd.read_csv(r'NASA-s-Turbo-Engine-Remaining-Useful-Life-prediction-using-machine-learning-main\\Test_classification_1.csv')"
   ]
  },
  {
   "cell_type": "code",
   "execution_count": 33,
   "metadata": {},
   "outputs": [
    {
     "data": {
      "text/html": [
       "<div>\n",
       "<style scoped>\n",
       "    .dataframe tbody tr th:only-of-type {\n",
       "        vertical-align: middle;\n",
       "    }\n",
       "\n",
       "    .dataframe tbody tr th {\n",
       "        vertical-align: top;\n",
       "    }\n",
       "\n",
       "    .dataframe thead th {\n",
       "        text-align: right;\n",
       "    }\n",
       "</style>\n",
       "<table border=\"1\" class=\"dataframe\">\n",
       "  <thead>\n",
       "    <tr style=\"text-align: right;\">\n",
       "      <th></th>\n",
       "      <th>Cycle</th>\n",
       "      <th>OpSet1</th>\n",
       "      <th>OpSet2</th>\n",
       "      <th>OpSet3</th>\n",
       "      <th>SensorMeasure1</th>\n",
       "      <th>SensorMeasure2</th>\n",
       "      <th>SensorMeasure3</th>\n",
       "      <th>SensorMeasure4</th>\n",
       "      <th>SensorMeasure5</th>\n",
       "      <th>SensorMeasure6</th>\n",
       "      <th>...</th>\n",
       "      <th>SensorMeasure13</th>\n",
       "      <th>SensorMeasure14</th>\n",
       "      <th>SensorMeasure15</th>\n",
       "      <th>SensorMeasure16</th>\n",
       "      <th>SensorMeasure17</th>\n",
       "      <th>SensorMeasure18</th>\n",
       "      <th>SensorMeasure19</th>\n",
       "      <th>SensorMeasure20</th>\n",
       "      <th>SensorMeasure21</th>\n",
       "      <th>labels</th>\n",
       "    </tr>\n",
       "  </thead>\n",
       "  <tbody>\n",
       "    <tr>\n",
       "      <th>0</th>\n",
       "      <td>1</td>\n",
       "      <td>0.0023</td>\n",
       "      <td>0.0003</td>\n",
       "      <td>100.0</td>\n",
       "      <td>518.67</td>\n",
       "      <td>643.02</td>\n",
       "      <td>1585.29</td>\n",
       "      <td>1398.21</td>\n",
       "      <td>14.62</td>\n",
       "      <td>21.61</td>\n",
       "      <td>...</td>\n",
       "      <td>2388.03</td>\n",
       "      <td>8125.55</td>\n",
       "      <td>8.4052</td>\n",
       "      <td>0.03</td>\n",
       "      <td>392</td>\n",
       "      <td>2388</td>\n",
       "      <td>100.0</td>\n",
       "      <td>38.86</td>\n",
       "      <td>23.3735</td>\n",
       "      <td>0</td>\n",
       "    </tr>\n",
       "    <tr>\n",
       "      <th>1</th>\n",
       "      <td>2</td>\n",
       "      <td>-0.0027</td>\n",
       "      <td>-0.0003</td>\n",
       "      <td>100.0</td>\n",
       "      <td>518.67</td>\n",
       "      <td>641.71</td>\n",
       "      <td>1588.45</td>\n",
       "      <td>1395.42</td>\n",
       "      <td>14.62</td>\n",
       "      <td>21.61</td>\n",
       "      <td>...</td>\n",
       "      <td>2388.06</td>\n",
       "      <td>8139.62</td>\n",
       "      <td>8.3803</td>\n",
       "      <td>0.03</td>\n",
       "      <td>393</td>\n",
       "      <td>2388</td>\n",
       "      <td>100.0</td>\n",
       "      <td>39.02</td>\n",
       "      <td>23.3916</td>\n",
       "      <td>0</td>\n",
       "    </tr>\n",
       "    <tr>\n",
       "      <th>2</th>\n",
       "      <td>3</td>\n",
       "      <td>0.0003</td>\n",
       "      <td>0.0001</td>\n",
       "      <td>100.0</td>\n",
       "      <td>518.67</td>\n",
       "      <td>642.46</td>\n",
       "      <td>1586.94</td>\n",
       "      <td>1401.34</td>\n",
       "      <td>14.62</td>\n",
       "      <td>21.61</td>\n",
       "      <td>...</td>\n",
       "      <td>2388.03</td>\n",
       "      <td>8130.10</td>\n",
       "      <td>8.4441</td>\n",
       "      <td>0.03</td>\n",
       "      <td>393</td>\n",
       "      <td>2388</td>\n",
       "      <td>100.0</td>\n",
       "      <td>39.08</td>\n",
       "      <td>23.4166</td>\n",
       "      <td>0</td>\n",
       "    </tr>\n",
       "    <tr>\n",
       "      <th>3</th>\n",
       "      <td>4</td>\n",
       "      <td>0.0042</td>\n",
       "      <td>0.0000</td>\n",
       "      <td>100.0</td>\n",
       "      <td>518.67</td>\n",
       "      <td>642.44</td>\n",
       "      <td>1584.12</td>\n",
       "      <td>1406.42</td>\n",
       "      <td>14.62</td>\n",
       "      <td>21.61</td>\n",
       "      <td>...</td>\n",
       "      <td>2388.05</td>\n",
       "      <td>8132.90</td>\n",
       "      <td>8.3917</td>\n",
       "      <td>0.03</td>\n",
       "      <td>391</td>\n",
       "      <td>2388</td>\n",
       "      <td>100.0</td>\n",
       "      <td>39.00</td>\n",
       "      <td>23.3737</td>\n",
       "      <td>0</td>\n",
       "    </tr>\n",
       "    <tr>\n",
       "      <th>4</th>\n",
       "      <td>5</td>\n",
       "      <td>0.0014</td>\n",
       "      <td>0.0000</td>\n",
       "      <td>100.0</td>\n",
       "      <td>518.67</td>\n",
       "      <td>642.51</td>\n",
       "      <td>1587.19</td>\n",
       "      <td>1401.92</td>\n",
       "      <td>14.62</td>\n",
       "      <td>21.61</td>\n",
       "      <td>...</td>\n",
       "      <td>2388.03</td>\n",
       "      <td>8129.54</td>\n",
       "      <td>8.4031</td>\n",
       "      <td>0.03</td>\n",
       "      <td>390</td>\n",
       "      <td>2388</td>\n",
       "      <td>100.0</td>\n",
       "      <td>38.99</td>\n",
       "      <td>23.4130</td>\n",
       "      <td>0</td>\n",
       "    </tr>\n",
       "  </tbody>\n",
       "</table>\n",
       "<p>5 rows × 26 columns</p>\n",
       "</div>"
      ],
      "text/plain": [
       "   Cycle  OpSet1  OpSet2  OpSet3  SensorMeasure1  SensorMeasure2  \\\n",
       "0      1  0.0023  0.0003   100.0          518.67          643.02   \n",
       "1      2 -0.0027 -0.0003   100.0          518.67          641.71   \n",
       "2      3  0.0003  0.0001   100.0          518.67          642.46   \n",
       "3      4  0.0042  0.0000   100.0          518.67          642.44   \n",
       "4      5  0.0014  0.0000   100.0          518.67          642.51   \n",
       "\n",
       "   SensorMeasure3  SensorMeasure4  SensorMeasure5  SensorMeasure6  ...  \\\n",
       "0         1585.29         1398.21           14.62           21.61  ...   \n",
       "1         1588.45         1395.42           14.62           21.61  ...   \n",
       "2         1586.94         1401.34           14.62           21.61  ...   \n",
       "3         1584.12         1406.42           14.62           21.61  ...   \n",
       "4         1587.19         1401.92           14.62           21.61  ...   \n",
       "\n",
       "   SensorMeasure13  SensorMeasure14  SensorMeasure15  SensorMeasure16  \\\n",
       "0          2388.03          8125.55           8.4052             0.03   \n",
       "1          2388.06          8139.62           8.3803             0.03   \n",
       "2          2388.03          8130.10           8.4441             0.03   \n",
       "3          2388.05          8132.90           8.3917             0.03   \n",
       "4          2388.03          8129.54           8.4031             0.03   \n",
       "\n",
       "   SensorMeasure17  SensorMeasure18  SensorMeasure19  SensorMeasure20  \\\n",
       "0              392             2388            100.0            38.86   \n",
       "1              393             2388            100.0            39.02   \n",
       "2              393             2388            100.0            39.08   \n",
       "3              391             2388            100.0            39.00   \n",
       "4              390             2388            100.0            38.99   \n",
       "\n",
       "   SensorMeasure21  labels  \n",
       "0          23.3735       0  \n",
       "1          23.3916       0  \n",
       "2          23.4166       0  \n",
       "3          23.3737       0  \n",
       "4          23.4130       0  \n",
       "\n",
       "[5 rows x 26 columns]"
      ]
     },
     "execution_count": 33,
     "metadata": {},
     "output_type": "execute_result"
    }
   ],
   "source": [
    "testing_data.head()"
   ]
  },
  {
   "cell_type": "code",
   "execution_count": 35,
   "metadata": {},
   "outputs": [
    {
     "data": {
      "text/plain": [
       "(13096, 26)"
      ]
     },
     "execution_count": 35,
     "metadata": {},
     "output_type": "execute_result"
    }
   ],
   "source": [
    "testing_data.shape"
   ]
  },
  {
   "cell_type": "code",
   "execution_count": 37,
   "metadata": {},
   "outputs": [],
   "source": [
    "test_X = testing_data.iloc[:,0:-1]"
   ]
  },
  {
   "cell_type": "code",
   "execution_count": 39,
   "metadata": {},
   "outputs": [],
   "source": [
    "test_Y = testing_data['labels']"
   ]
  },
  {
   "cell_type": "code",
   "execution_count": 40,
   "metadata": {},
   "outputs": [
    {
     "data": {
      "text/plain": [
       "((13096, 25), (13096,))"
      ]
     },
     "execution_count": 40,
     "metadata": {},
     "output_type": "execute_result"
    }
   ],
   "source": [
    "test_X.shape,test_Y.shape"
   ]
  },
  {
   "cell_type": "code",
   "execution_count": 41,
   "metadata": {},
   "outputs": [],
   "source": [
    "test_X_std = scaler.fit_transform(test_X)"
   ]
  },
  {
   "cell_type": "code",
   "execution_count": 48,
   "metadata": {},
   "outputs": [
    {
     "data": {
      "text/plain": [
       "array([ 8.32398127e-01, -1.76528122e-01, -3.54527477e-01,  0.00000000e+00,\n",
       "        0.00000000e+00,  1.43411095e+00,  1.45126431e+00,  1.14003836e+00,\n",
       "       -1.77635684e-15,  1.75659965e-01, -6.27547260e-01,  1.89826532e+00,\n",
       "       -1.17852141e+00, -2.22044605e-16,  1.14234130e+00, -1.56846905e+00,\n",
       "        1.38718243e+00, -1.27773272e+00,  2.18407170e+00, -1.04083409e-17,\n",
       "       -4.63405876e-01,  0.00000000e+00,  0.00000000e+00, -7.23495867e-01,\n",
       "       -1.91212908e+00])"
      ]
     },
     "execution_count": 48,
     "metadata": {},
     "output_type": "execute_result"
    }
   ],
   "source": [
    "test_X_std[200]"
   ]
  },
  {
   "cell_type": "code",
   "execution_count": 44,
   "metadata": {},
   "outputs": [
    {
     "data": {
      "text/html": [
       "<div>\n",
       "<style scoped>\n",
       "    .dataframe tbody tr th:only-of-type {\n",
       "        vertical-align: middle;\n",
       "    }\n",
       "\n",
       "    .dataframe tbody tr th {\n",
       "        vertical-align: top;\n",
       "    }\n",
       "\n",
       "    .dataframe thead th {\n",
       "        text-align: right;\n",
       "    }\n",
       "</style>\n",
       "<table border=\"1\" class=\"dataframe\">\n",
       "  <thead>\n",
       "    <tr style=\"text-align: right;\">\n",
       "      <th></th>\n",
       "      <th>Cycle</th>\n",
       "      <th>OpSet1</th>\n",
       "      <th>OpSet2</th>\n",
       "      <th>OpSet3</th>\n",
       "      <th>SensorMeasure1</th>\n",
       "      <th>SensorMeasure2</th>\n",
       "      <th>SensorMeasure3</th>\n",
       "      <th>SensorMeasure4</th>\n",
       "      <th>SensorMeasure5</th>\n",
       "      <th>SensorMeasure6</th>\n",
       "      <th>...</th>\n",
       "      <th>SensorMeasure13</th>\n",
       "      <th>SensorMeasure14</th>\n",
       "      <th>SensorMeasure15</th>\n",
       "      <th>SensorMeasure16</th>\n",
       "      <th>SensorMeasure17</th>\n",
       "      <th>SensorMeasure18</th>\n",
       "      <th>SensorMeasure19</th>\n",
       "      <th>SensorMeasure20</th>\n",
       "      <th>SensorMeasure21</th>\n",
       "      <th>labels</th>\n",
       "    </tr>\n",
       "  </thead>\n",
       "  <tbody>\n",
       "    <tr>\n",
       "      <th>0</th>\n",
       "      <td>1</td>\n",
       "      <td>0.0023</td>\n",
       "      <td>0.0003</td>\n",
       "      <td>100.0</td>\n",
       "      <td>518.67</td>\n",
       "      <td>643.02</td>\n",
       "      <td>1585.29</td>\n",
       "      <td>1398.21</td>\n",
       "      <td>14.62</td>\n",
       "      <td>21.61</td>\n",
       "      <td>...</td>\n",
       "      <td>2388.03</td>\n",
       "      <td>8125.55</td>\n",
       "      <td>8.4052</td>\n",
       "      <td>0.03</td>\n",
       "      <td>392</td>\n",
       "      <td>2388</td>\n",
       "      <td>100.0</td>\n",
       "      <td>38.86</td>\n",
       "      <td>23.3735</td>\n",
       "      <td>0</td>\n",
       "    </tr>\n",
       "    <tr>\n",
       "      <th>1</th>\n",
       "      <td>2</td>\n",
       "      <td>-0.0027</td>\n",
       "      <td>-0.0003</td>\n",
       "      <td>100.0</td>\n",
       "      <td>518.67</td>\n",
       "      <td>641.71</td>\n",
       "      <td>1588.45</td>\n",
       "      <td>1395.42</td>\n",
       "      <td>14.62</td>\n",
       "      <td>21.61</td>\n",
       "      <td>...</td>\n",
       "      <td>2388.06</td>\n",
       "      <td>8139.62</td>\n",
       "      <td>8.3803</td>\n",
       "      <td>0.03</td>\n",
       "      <td>393</td>\n",
       "      <td>2388</td>\n",
       "      <td>100.0</td>\n",
       "      <td>39.02</td>\n",
       "      <td>23.3916</td>\n",
       "      <td>0</td>\n",
       "    </tr>\n",
       "    <tr>\n",
       "      <th>2</th>\n",
       "      <td>3</td>\n",
       "      <td>0.0003</td>\n",
       "      <td>0.0001</td>\n",
       "      <td>100.0</td>\n",
       "      <td>518.67</td>\n",
       "      <td>642.46</td>\n",
       "      <td>1586.94</td>\n",
       "      <td>1401.34</td>\n",
       "      <td>14.62</td>\n",
       "      <td>21.61</td>\n",
       "      <td>...</td>\n",
       "      <td>2388.03</td>\n",
       "      <td>8130.10</td>\n",
       "      <td>8.4441</td>\n",
       "      <td>0.03</td>\n",
       "      <td>393</td>\n",
       "      <td>2388</td>\n",
       "      <td>100.0</td>\n",
       "      <td>39.08</td>\n",
       "      <td>23.4166</td>\n",
       "      <td>0</td>\n",
       "    </tr>\n",
       "    <tr>\n",
       "      <th>3</th>\n",
       "      <td>4</td>\n",
       "      <td>0.0042</td>\n",
       "      <td>0.0000</td>\n",
       "      <td>100.0</td>\n",
       "      <td>518.67</td>\n",
       "      <td>642.44</td>\n",
       "      <td>1584.12</td>\n",
       "      <td>1406.42</td>\n",
       "      <td>14.62</td>\n",
       "      <td>21.61</td>\n",
       "      <td>...</td>\n",
       "      <td>2388.05</td>\n",
       "      <td>8132.90</td>\n",
       "      <td>8.3917</td>\n",
       "      <td>0.03</td>\n",
       "      <td>391</td>\n",
       "      <td>2388</td>\n",
       "      <td>100.0</td>\n",
       "      <td>39.00</td>\n",
       "      <td>23.3737</td>\n",
       "      <td>0</td>\n",
       "    </tr>\n",
       "    <tr>\n",
       "      <th>4</th>\n",
       "      <td>5</td>\n",
       "      <td>0.0014</td>\n",
       "      <td>0.0000</td>\n",
       "      <td>100.0</td>\n",
       "      <td>518.67</td>\n",
       "      <td>642.51</td>\n",
       "      <td>1587.19</td>\n",
       "      <td>1401.92</td>\n",
       "      <td>14.62</td>\n",
       "      <td>21.61</td>\n",
       "      <td>...</td>\n",
       "      <td>2388.03</td>\n",
       "      <td>8129.54</td>\n",
       "      <td>8.4031</td>\n",
       "      <td>0.03</td>\n",
       "      <td>390</td>\n",
       "      <td>2388</td>\n",
       "      <td>100.0</td>\n",
       "      <td>38.99</td>\n",
       "      <td>23.4130</td>\n",
       "      <td>0</td>\n",
       "    </tr>\n",
       "  </tbody>\n",
       "</table>\n",
       "<p>5 rows × 26 columns</p>\n",
       "</div>"
      ],
      "text/plain": [
       "   Cycle  OpSet1  OpSet2  OpSet3  SensorMeasure1  SensorMeasure2  \\\n",
       "0      1  0.0023  0.0003   100.0          518.67          643.02   \n",
       "1      2 -0.0027 -0.0003   100.0          518.67          641.71   \n",
       "2      3  0.0003  0.0001   100.0          518.67          642.46   \n",
       "3      4  0.0042  0.0000   100.0          518.67          642.44   \n",
       "4      5  0.0014  0.0000   100.0          518.67          642.51   \n",
       "\n",
       "   SensorMeasure3  SensorMeasure4  SensorMeasure5  SensorMeasure6  ...  \\\n",
       "0         1585.29         1398.21           14.62           21.61  ...   \n",
       "1         1588.45         1395.42           14.62           21.61  ...   \n",
       "2         1586.94         1401.34           14.62           21.61  ...   \n",
       "3         1584.12         1406.42           14.62           21.61  ...   \n",
       "4         1587.19         1401.92           14.62           21.61  ...   \n",
       "\n",
       "   SensorMeasure13  SensorMeasure14  SensorMeasure15  SensorMeasure16  \\\n",
       "0          2388.03          8125.55           8.4052             0.03   \n",
       "1          2388.06          8139.62           8.3803             0.03   \n",
       "2          2388.03          8130.10           8.4441             0.03   \n",
       "3          2388.05          8132.90           8.3917             0.03   \n",
       "4          2388.03          8129.54           8.4031             0.03   \n",
       "\n",
       "   SensorMeasure17  SensorMeasure18  SensorMeasure19  SensorMeasure20  \\\n",
       "0              392             2388            100.0            38.86   \n",
       "1              393             2388            100.0            39.02   \n",
       "2              393             2388            100.0            39.08   \n",
       "3              391             2388            100.0            39.00   \n",
       "4              390             2388            100.0            38.99   \n",
       "\n",
       "   SensorMeasure21  labels  \n",
       "0          23.3735       0  \n",
       "1          23.3916       0  \n",
       "2          23.4166       0  \n",
       "3          23.3737       0  \n",
       "4          23.4130       0  \n",
       "\n",
       "[5 rows x 26 columns]"
      ]
     },
     "execution_count": 44,
     "metadata": {},
     "output_type": "execute_result"
    }
   ],
   "source": [
    "testing_data.head()"
   ]
  },
  {
   "cell_type": "code",
   "execution_count": 51,
   "metadata": {},
   "outputs": [
    {
     "name": "stdout",
     "output_type": "stream",
     "text": [
      "[[1.000000e+00 6.506054e-32 0.000000e+00]]\n",
      "[0]\n",
      "Early Stage\n"
     ]
    }
   ],
   "source": [
    "test_input = (-1.42937481e+00,  1.04929536e+00,  1.00592724e+00,  0.00000000e+00,\n",
    "        0.00000000e+00,  1.35927635e+00, -5.61494661e-01, -9.75674241e-01,\n",
    "       -1.77635684e-15,  1.75659965e-01,  2.09137586e-01, -5.39077944e-01,\n",
    "       -7.20312188e-01, -2.22044605e-16, -1.10359065e+00, -4.95415753e-02,\n",
    "       -7.20590213e-01, -1.31503071e+00, -7.11659235e-01, -1.04083409e-17,\n",
    "       -4.63405876e-01,  0.00000000e+00,  0.00000000e+00, -2.29408490e-01,\n",
    "        4.48866185e-01)\n",
    "test_input = np.asarray(test_input)\n",
    "test_input_new = test_input.reshape(1,-1)\n",
    "\n",
    "prediction = model.predict(test_input_new)\n",
    "print(prediction)\n",
    "\n",
    "prediction_labels = [np.argmax(prediction)]\n",
    "print(prediction_labels)\n",
    "\n",
    "if prediction_labels[0] == 0:\n",
    "    print(\"Early Stage\")\n",
    "elif prediction_labels[0] == 1:\n",
    "    print(\"Mid Stage\")\n",
    "elif prediction_labels[0] == 2:\n",
    "    print(\"End Stage\")"
   ]
  },
  {
   "cell_type": "code",
   "execution_count": 50,
   "metadata": {},
   "outputs": [
    {
     "name": "stdout",
     "output_type": "stream",
     "text": [
      "[[0. 0. 1.]]\n",
      "[2]\n",
      "End Stage\n"
     ]
    }
   ],
   "source": [
    "test_input = (8.32398127e-01, -1.76528122e-01, -3.54527477e-01,  0.00000000e+00,\n",
    "        0.00000000e+00,  1.43411095e+00,  1.45126431e+00,  1.14003836e+00,\n",
    "       -1.77635684e-15,  1.75659965e-01, -6.27547260e-01,  1.89826532e+00,\n",
    "       -1.17852141e+00, -2.22044605e-16,  1.14234130e+00, -1.56846905e+00,\n",
    "        1.38718243e+00, -1.27773272e+00,  2.18407170e+00, -1.04083409e-17,\n",
    "       -4.63405876e-01,  0.00000000e+00,  0.00000000e+00, -7.23495867e-01,\n",
    "       -1.91212908e+00)\n",
    "test_input = np.asarray(test_input)\n",
    "test_input_new = test_input.reshape(1,-1)\n",
    "\n",
    "prediction = model.predict(test_input_new)\n",
    "print(prediction)\n",
    "\n",
    "prediction_labels = [np.argmax(prediction)]\n",
    "print(prediction_labels)\n",
    "\n",
    "if prediction_labels[0] == 0:\n",
    "    print(\"Early Stage\")\n",
    "elif prediction_labels[0] == 1:\n",
    "    print(\"Mid Stage\")\n",
    "elif prediction_labels[0] == 2:\n",
    "    print(\"End Stage\")"
   ]
  },
  {
   "cell_type": "code",
   "execution_count": null,
   "metadata": {},
   "outputs": [],
   "source": []
  }
 ],
 "metadata": {
  "kernelspec": {
   "display_name": "Python 3.9.7 64-bit",
   "language": "python",
   "name": "python3"
  },
  "language_info": {
   "codemirror_mode": {
    "name": "ipython",
    "version": 3
   },
   "file_extension": ".py",
   "mimetype": "text/x-python",
   "name": "python",
   "nbconvert_exporter": "python",
   "pygments_lexer": "ipython3",
   "version": "3.9.7"
  },
  "orig_nbformat": 4,
  "vscode": {
   "interpreter": {
    "hash": "903d28fc8095cdeaee5be616f3ebb92fafee475741240b3f05159e4f3ac8bf72"
   }
  }
 },
 "nbformat": 4,
 "nbformat_minor": 2
}
